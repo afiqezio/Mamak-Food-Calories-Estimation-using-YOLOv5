{
 "cells": [
  {
   "cell_type": "code",
   "execution_count": 1,
   "id": "cd3212fd-c681-4227-b8bb-83a020f5ec55",
   "metadata": {
    "tags": []
   },
   "outputs": [
    {
     "name": "stdout",
     "output_type": "stream",
     "text": [
      "1.11.1\n"
     ]
    }
   ],
   "source": [
    "import scipy\n",
    "print(scipy.__version__)"
   ]
  },
  {
   "cell_type": "code",
   "execution_count": 2,
   "id": "810facae-598a-4c41-88c6-4fc3814ac0db",
   "metadata": {
    "tags": []
   },
   "outputs": [
    {
     "name": "stdout",
     "output_type": "stream",
     "text": [
      "Python version: 3.11.5 | packaged by Anaconda, Inc. | (main, Sep 11 2023, 13:26:23) [MSC v.1916 64 bit (AMD64)]\n"
     ]
    }
   ],
   "source": [
    "import sys\n",
    "print(\"Python version:\", sys.version)"
   ]
  },
  {
   "cell_type": "code",
   "execution_count": 7,
   "id": "4ae82fc3-5e39-4d3e-af71-ea8bc64c180e",
   "metadata": {
    "tags": []
   },
   "outputs": [
    {
     "name": "stdout",
     "output_type": "stream",
     "text": [
      "Area Size:  {'roti bakar': 149.24247050622407, 'reference card': 46.20688}\n",
      "Weight:  {'roti bakar': 52.23486467717842, 'reference card': 4.99034304}\n",
      "Prediction:  {'roti bakar': '149.46 - 192.16'}\n"
     ]
    },
    {
     "name": "stderr",
     "output_type": "stream",
     "text": [
      "YOLOv5  2023-12-4 Python-3.11.5 torch-2.1.1+cpu CPU\n",
      "\n",
      "Fusing layers... \n",
      "Model summary: 165 layers, 7422695 parameters, 0 gradients, 25.8 GFLOPs\n",
      "image 1/1 C:\\Users\\afiqe\\Downloads\\FYP\\Dataset\\Test\\rotibakar1-55g.jpeg: 640x384 1 reference card, 1 roti bakar, 157.1ms\n",
      "Speed: 0.0ms pre-process, 157.1ms inference, 2.0ms NMS per image at shape (1, 3, 640, 640)\n",
      "Results saved to \u001b[1mC:\\Users\\afiqe\\Downloads\\yolov5\\runs\\predict-seg\\exp3\u001b[0m\n"
     ]
    }
   ],
   "source": [
    "!python prototype.py"
   ]
  },
  {
   "cell_type": "markdown",
   "id": "89209beb-d2a9-4c6c-94ae-4706de7dc7cd",
   "metadata": {
    "tags": []
   },
   "source": [
    "C:\\\\Users\\\\afiqe\\\\Downloads\\\\yolov5-master\\\\yolov5-master\\\\runs\\\\train-seg\\\\yolov53\\\\weights\\\\best.pt"
   ]
  },
  {
   "cell_type": "markdown",
   "id": "134aee8a-ed0e-4eb1-a888-01fe4e592dcf",
   "metadata": {},
   "source": [
    "C:\\\\Users\\\\afiqe\\\\Downloads\\\\yolov5-master\\\\yolov5-master\\\\runs\\\\predict-seg"
   ]
  }
 ],
 "metadata": {
  "kernelspec": {
   "display_name": "Python 3 (ipykernel)",
   "language": "python",
   "name": "python3"
  },
  "language_info": {
   "codemirror_mode": {
    "name": "ipython",
    "version": 3
   },
   "file_extension": ".py",
   "mimetype": "text/x-python",
   "name": "python",
   "nbconvert_exporter": "python",
   "pygments_lexer": "ipython3",
   "version": "3.11.5"
  }
 },
 "nbformat": 4,
 "nbformat_minor": 5
}
