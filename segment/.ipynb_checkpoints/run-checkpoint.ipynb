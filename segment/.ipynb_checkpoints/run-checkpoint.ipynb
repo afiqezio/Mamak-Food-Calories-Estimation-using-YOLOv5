{
 "cells": [
  {
   "cell_type": "code",
   "execution_count": 1,
   "id": "cd3212fd-c681-4227-b8bb-83a020f5ec55",
   "metadata": {
    "tags": []
   },
   "outputs": [
    {
     "name": "stdout",
     "output_type": "stream",
     "text": [
      "1.11.1\n"
     ]
    }
   ],
   "source": [
    "import scipy\n",
    "print(scipy.__version__)"
   ]
  },
  {
   "cell_type": "code",
   "execution_count": 2,
   "id": "810facae-598a-4c41-88c6-4fc3814ac0db",
   "metadata": {
    "tags": []
   },
   "outputs": [
    {
     "name": "stdout",
     "output_type": "stream",
     "text": [
      "Python version: 3.11.5 | packaged by Anaconda, Inc. | (main, Sep 11 2023, 13:26:23) [MSC v.1916 64 bit (AMD64)]\n"
     ]
    }
   ],
   "source": [
    "import sys\n",
    "print(\"Python version:\", sys.version)"
   ]
  },
  {
   "cell_type": "code",
   "execution_count": null,
   "id": "4ae82fc3-5e39-4d3e-af71-ea8bc64c180e",
   "metadata": {
    "tags": []
   },
   "outputs": [],
   "source": [
    "!python test.py"
   ]
  },
  {
   "cell_type": "markdown",
   "id": "89209beb-d2a9-4c6c-94ae-4706de7dc7cd",
   "metadata": {
    "tags": []
   },
   "source": [
    "C:\\\\Users\\\\afiqe\\\\Downloads\\\\yolov5-master\\\\yolov5-master\\\\runs\\\\train-seg\\\\yolov53\\\\weights\\\\best.pt"
   ]
  },
  {
   "cell_type": "markdown",
   "id": "134aee8a-ed0e-4eb1-a888-01fe4e592dcf",
   "metadata": {},
   "source": [
    "C:\\\\Users\\\\afiqe\\\\Downloads\\\\yolov5-master\\\\yolov5-master\\\\runs\\\\predict-seg"
   ]
  }
 ],
 "metadata": {
  "kernelspec": {
   "display_name": "Python 3 (ipykernel)",
   "language": "python",
   "name": "python3"
  },
  "language_info": {
   "codemirror_mode": {
    "name": "ipython",
    "version": 3
   },
   "file_extension": ".py",
   "mimetype": "text/x-python",
   "name": "python",
   "nbconvert_exporter": "python",
   "pygments_lexer": "ipython3",
   "version": "3.11.5"
  }
 },
 "nbformat": 4,
 "nbformat_minor": 5
}
